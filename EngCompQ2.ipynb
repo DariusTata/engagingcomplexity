{
 "cells": [
  {
   "cell_type": "markdown",
   "id": "c7fef02b-3f39-4b54-bcae-1f1d37871d8d",
   "metadata": {},
   "source": [
    "## Engaging Complexity\n",
    "### Quiz 2\n",
    "\n",
    "#### Github link:  https://github.com/DariusTata/engagingcomplexity\n",
    "\n",
    "*Notation: log denotes logarithm base 10, ln denotes natural logarithm.*"
   ]
  },
  {
   "cell_type": "markdown",
   "id": "44f0671d-eac3-4932-bd06-78df0f608a0d",
   "metadata": {},
   "source": [
    "_1. (3 points) The relative growth rate of world population has been drecreasing steadily in recent years. On the basis of this, some population models predict that world population will eventually stabilise at a level that the planet can support. One such logisitical model is:_"
   ]
  },
  {
   "cell_type": "markdown",
   "id": "dbd8a336-f617-4b7b-b59f-0810ec547278",
   "metadata": {},
   "source": [
    "$P(t) = 73.2/{6.1+5.9e^{-0.02t}}$"
   ]
  },
  {
   "cell_type": "markdown",
   "id": "f674a137-c069-44af-bc00-99bd198050ff",
   "metadata": {},
   "source": [
    "where t=0 is the year 2000 and population P is measured in billions."
   ]
  },
  {
   "cell_type": "markdown",
   "id": "ae231478-f068-450b-8b40-3a4b649d8661",
   "metadata": {},
   "source": [
    "(a) What world population does this model predict for the year 2200? For 2300?\n",
    "\n",
    "**(a)**"
   ]
  },
  {
   "cell_type": "code",
   "execution_count": 116,
   "id": "d78e2cfb-b360-41fb-8e18-eb4d47ca49f1",
   "metadata": {},
   "outputs": [],
   "source": [
    "import math\n",
    "\n",
    "def world_pop(t):\n",
    "    #normalise t for the model\n",
    "    t = t -2000\n",
    "    #after normalisation, if t is less than 0 the year is out of bounds.\n",
    "    if t<0:\n",
    "        P=-1\n",
    "    #calculate t using model formula\n",
    "    else:\n",
    "        P = 73.2/(6.1+(5.9*(math.e)**(-0.02*t)))\n",
    "    return(P)"
   ]
  },
  {
   "cell_type": "code",
   "execution_count": 117,
   "id": "621f6579-72bf-42d5-8889-8f35ae085e31",
   "metadata": {},
   "outputs": [
    {
     "data": {
      "text/plain": [
       "11.79111884239547"
      ]
     },
     "execution_count": 117,
     "metadata": {},
     "output_type": "execute_result"
    }
   ],
   "source": [
    "#call function passing year difference as arg\n",
    "world_pop(2200)"
   ]
  },
  {
   "cell_type": "code",
   "execution_count": 118,
   "id": "bf676710-ee7b-4f9b-a24a-76376048989e",
   "metadata": {},
   "outputs": [
    {
     "data": {
      "text/plain": [
       "11.971299030684262"
      ]
     },
     "execution_count": 118,
     "metadata": {},
     "output_type": "execute_result"
    }
   ],
   "source": [
    "#call function passing year difference as arg\n",
    "world_pop(2300)"
   ]
  },
  {
   "cell_type": "markdown",
   "id": "bf8190d4-7607-41ec-a8d4-14853b1bbf58",
   "metadata": {},
   "source": [
    "* Our input data only has 1 significant figure; **The model predicts a population of 12 billion for the year 2200 and 2300**, when rounding to 2 significant figures.\n",
    "* Without rounding there is a small difference between the two answers, however this represents a difference of 180 million people - which is a lot. The model's prediction precion is therefore limited by the precision of the input data."
   ]
  },
  {
   "cell_type": "markdown",
   "id": "b2937ca7-7fdb-42d4-827a-59b91d04a635",
   "metadata": {},
   "source": [
    "(b) Sketch a graph of the function P for the years 2000 to 2500.\n",
    "\n",
    "**(b)**"
   ]
  },
  {
   "cell_type": "code",
   "execution_count": 119,
   "id": "d15219da-c726-4a91-960a-e50d681f33f0",
   "metadata": {},
   "outputs": [
    {
     "data": {
      "text/html": [
       "<div>\n",
       "<style scoped>\n",
       "    .dataframe tbody tr th:only-of-type {\n",
       "        vertical-align: middle;\n",
       "    }\n",
       "\n",
       "    .dataframe tbody tr th {\n",
       "        vertical-align: top;\n",
       "    }\n",
       "\n",
       "    .dataframe thead th {\n",
       "        text-align: right;\n",
       "    }\n",
       "</style>\n",
       "<table border=\"1\" class=\"dataframe\">\n",
       "  <thead>\n",
       "    <tr style=\"text-align: right;\">\n",
       "      <th></th>\n",
       "      <th>t (Year)</th>\n",
       "      <th>P (Billions of People)</th>\n",
       "    </tr>\n",
       "  </thead>\n",
       "  <tbody>\n",
       "    <tr>\n",
       "      <th>0</th>\n",
       "      <td>2000</td>\n",
       "      <td>0.0</td>\n",
       "    </tr>\n",
       "    <tr>\n",
       "      <th>1</th>\n",
       "      <td>2001</td>\n",
       "      <td>0.0</td>\n",
       "    </tr>\n",
       "    <tr>\n",
       "      <th>2</th>\n",
       "      <td>2002</td>\n",
       "      <td>0.0</td>\n",
       "    </tr>\n",
       "    <tr>\n",
       "      <th>3</th>\n",
       "      <td>2003</td>\n",
       "      <td>0.0</td>\n",
       "    </tr>\n",
       "    <tr>\n",
       "      <th>4</th>\n",
       "      <td>2004</td>\n",
       "      <td>0.0</td>\n",
       "    </tr>\n",
       "    <tr>\n",
       "      <th>...</th>\n",
       "      <td>...</td>\n",
       "      <td>...</td>\n",
       "    </tr>\n",
       "    <tr>\n",
       "      <th>496</th>\n",
       "      <td>2496</td>\n",
       "      <td>0.0</td>\n",
       "    </tr>\n",
       "    <tr>\n",
       "      <th>497</th>\n",
       "      <td>2497</td>\n",
       "      <td>0.0</td>\n",
       "    </tr>\n",
       "    <tr>\n",
       "      <th>498</th>\n",
       "      <td>2498</td>\n",
       "      <td>0.0</td>\n",
       "    </tr>\n",
       "    <tr>\n",
       "      <th>499</th>\n",
       "      <td>2499</td>\n",
       "      <td>0.0</td>\n",
       "    </tr>\n",
       "    <tr>\n",
       "      <th>500</th>\n",
       "      <td>2500</td>\n",
       "      <td>0.0</td>\n",
       "    </tr>\n",
       "  </tbody>\n",
       "</table>\n",
       "<p>501 rows × 2 columns</p>\n",
       "</div>"
      ],
      "text/plain": [
       "     t (Year)  P (Billions of People)\n",
       "0        2000                     0.0\n",
       "1        2001                     0.0\n",
       "2        2002                     0.0\n",
       "3        2003                     0.0\n",
       "4        2004                     0.0\n",
       "..        ...                     ...\n",
       "496      2496                     0.0\n",
       "497      2497                     0.0\n",
       "498      2498                     0.0\n",
       "499      2499                     0.0\n",
       "500      2500                     0.0\n",
       "\n",
       "[501 rows x 2 columns]"
      ]
     },
     "execution_count": 119,
     "metadata": {},
     "output_type": "execute_result"
    }
   ],
   "source": [
    "import pandas as pd\n",
    "\n",
    "#create a dictionary with values for r from 10 to 100 and placeholder floats for T\n",
    "q1 = {\n",
    "    't (Year)': list(range(2000,2501))\n",
    "}\n",
    "q1_P = {\n",
    "    'P (Billions of People)': [0.0] * len(q1['t (Year)'])\n",
    "}\n",
    "#merge the dictionaries\n",
    "q1.update(q1_P)\n",
    "\n",
    "#create dataframe from dictionaries\n",
    "q1_df = pd.DataFrame(data=q1)\n",
    "q1_df"
   ]
  },
  {
   "cell_type": "code",
   "execution_count": 120,
   "id": "d7bcfdcc-d875-4315-82b0-464aee468bf5",
   "metadata": {},
   "outputs": [
    {
     "data": {
      "text/html": [
       "<div>\n",
       "<style scoped>\n",
       "    .dataframe tbody tr th:only-of-type {\n",
       "        vertical-align: middle;\n",
       "    }\n",
       "\n",
       "    .dataframe tbody tr th {\n",
       "        vertical-align: top;\n",
       "    }\n",
       "\n",
       "    .dataframe thead th {\n",
       "        text-align: right;\n",
       "    }\n",
       "</style>\n",
       "<table border=\"1\" class=\"dataframe\">\n",
       "  <thead>\n",
       "    <tr style=\"text-align: right;\">\n",
       "      <th></th>\n",
       "      <th>t (Year)</th>\n",
       "      <th>P (Billions of People)</th>\n",
       "    </tr>\n",
       "  </thead>\n",
       "  <tbody>\n",
       "    <tr>\n",
       "      <th>0</th>\n",
       "      <td>2000</td>\n",
       "      <td>6.1000</td>\n",
       "    </tr>\n",
       "    <tr>\n",
       "      <th>1</th>\n",
       "      <td>2001</td>\n",
       "      <td>6.1600</td>\n",
       "    </tr>\n",
       "    <tr>\n",
       "      <th>2</th>\n",
       "      <td>2002</td>\n",
       "      <td>6.2199</td>\n",
       "    </tr>\n",
       "    <tr>\n",
       "      <th>3</th>\n",
       "      <td>2003</td>\n",
       "      <td>6.2798</td>\n",
       "    </tr>\n",
       "    <tr>\n",
       "      <th>4</th>\n",
       "      <td>2004</td>\n",
       "      <td>6.3396</td>\n",
       "    </tr>\n",
       "    <tr>\n",
       "      <th>...</th>\n",
       "      <td>...</td>\n",
       "      <td>...</td>\n",
       "    </tr>\n",
       "    <tr>\n",
       "      <th>496</th>\n",
       "      <td>2496</td>\n",
       "      <td>11.9994</td>\n",
       "    </tr>\n",
       "    <tr>\n",
       "      <th>497</th>\n",
       "      <td>2497</td>\n",
       "      <td>11.9994</td>\n",
       "    </tr>\n",
       "    <tr>\n",
       "      <th>498</th>\n",
       "      <td>2498</td>\n",
       "      <td>11.9995</td>\n",
       "    </tr>\n",
       "    <tr>\n",
       "      <th>499</th>\n",
       "      <td>2499</td>\n",
       "      <td>11.9995</td>\n",
       "    </tr>\n",
       "    <tr>\n",
       "      <th>500</th>\n",
       "      <td>2500</td>\n",
       "      <td>11.9995</td>\n",
       "    </tr>\n",
       "  </tbody>\n",
       "</table>\n",
       "<p>501 rows × 2 columns</p>\n",
       "</div>"
      ],
      "text/plain": [
       "     t (Year)  P (Billions of People)\n",
       "0        2000                  6.1000\n",
       "1        2001                  6.1600\n",
       "2        2002                  6.2199\n",
       "3        2003                  6.2798\n",
       "4        2004                  6.3396\n",
       "..        ...                     ...\n",
       "496      2496                 11.9994\n",
       "497      2497                 11.9994\n",
       "498      2498                 11.9995\n",
       "499      2499                 11.9995\n",
       "500      2500                 11.9995\n",
       "\n",
       "[501 rows x 2 columns]"
      ]
     },
     "execution_count": 120,
     "metadata": {},
     "output_type": "execute_result"
    }
   ],
   "source": [
    "#update P values in dataframe\n",
    "for i, row in q1_df.iterrows():\n",
    "    #comparing via index\n",
    "    if i+2000 == row['t (Year)']:\n",
    "        #iterate world_pop function over the Year column\n",
    "        pop = world_pop(row['t (Year)'])\n",
    "        #selecting the cell to update\n",
    "        q1_df.at[i, 'P (Billions of People)'] = round(pop, 4)\n",
    "\n",
    "q1_df"
   ]
  },
  {
   "cell_type": "code",
   "execution_count": 121,
   "id": "464475d6-47c7-4aec-971e-e45975ba6c1e",
   "metadata": {},
   "outputs": [
    {
     "data": {
      "image/png": "[encoded data removed]",
      "text/plain": [
       "<Figure size 640x480 with 1 Axes>"
      ]
     },
     "metadata": {},
     "output_type": "display_data"
    }
   ],
   "source": [
    "import matplotlib.pyplot as plt\n",
    "\n",
    "#plotting the function\n",
    "fig, ax = plt.subplots()\n",
    "ax.plot(q1_df['t (Year)'], q1_df['P (Billions of People)'])\n",
    "ax.set(xlabel='Time (Year)', ylabel='Population (Billion People)',\n",
    "       title='$P(t) = 73.2/{6.1+5.9e^{-0.02t}}$')\n",
    "\n",
    "plt.show()"
   ]
  },
  {
   "cell_type": "markdown",
   "id": "3d9b9b0d-6750-4007-bb3a-4cb3f1a1c367",
   "metadata": {},
   "source": [
    "(c) What size does the world population approach as time goes on?\n",
    "\n",
    "**(c)**"
   ]
  },
  {
   "cell_type": "markdown",
   "id": "a4bf5911-4ec0-47ba-a608-92578ef06680",
   "metadata": {},
   "source": [
    "* As t becomes larger, P approaches 12 asymptotically.\n",
    "* As time goes on, the world population approaches 12 billion asymptotically."
   ]
  },
  {
   "cell_type": "markdown",
   "id": "ea8c5bfa-345f-4362-8a09-a966edde5d8b",
   "metadata": {},
   "source": [
    "_2. (2 points)  \n",
    "(a) A radioactive substance decays in such a way that the amount of mass remaining after t days is given by the function:_"
   ]
  },
  {
   "cell_type": "markdown",
   "id": "9e0bd8cd-3f38-40cf-81c9-39fcf21e02ad",
   "metadata": {},
   "source": [
    "$m(t) = 13e^{-0.015t}$"
   ]
  },
  {
   "cell_type": "markdown",
   "id": "aef467a6-5ab8-4538-b74d-b7672d519c2c",
   "metadata": {},
   "source": [
    "where m(t) is measured in kilograms. Find the mass at time t = 0. How much of the mass remains after 45 days?\n",
    "\n",
    "**(a)**"
   ]
  },
  {
   "cell_type": "code",
   "execution_count": 122,
   "id": "afe160bc-0530-492c-812a-9034103abbdc",
   "metadata": {},
   "outputs": [],
   "source": [
    "def mass_remaining(t):\n",
    "    if t<0:\n",
    "        m=-1\n",
    "    else:\n",
    "        m=13*(math.e)**-(0.015*t)\n",
    "    return(m)"
   ]
  },
  {
   "cell_type": "code",
   "execution_count": 123,
   "id": "26719dfa-200e-49c1-8531-561e96dfb3aa",
   "metadata": {},
   "outputs": [
    {
     "data": {
      "text/plain": [
       "13.0"
      ]
     },
     "execution_count": 123,
     "metadata": {},
     "output_type": "execute_result"
    }
   ],
   "source": [
    "mass_remaining(0)"
   ]
  },
  {
   "cell_type": "markdown",
   "id": "478c1d78-d77e-421e-b093-a7d29810262f",
   "metadata": {},
   "source": [
    "* After no time has passed (t = 0) there is 13Kg of substance."
   ]
  },
  {
   "cell_type": "code",
   "execution_count": 124,
   "id": "03cdbd97-349a-4531-a235-b4964f9ac09f",
   "metadata": {},
   "outputs": [
    {
     "data": {
      "text/plain": [
       "6.61903346789814"
      ]
     },
     "execution_count": 124,
     "metadata": {},
     "output_type": "execute_result"
    }
   ],
   "source": [
    "mass_remaining(45)"
   ]
  },
  {
   "cell_type": "markdown",
   "id": "00bec713-dbf4-44bd-b773-e9df64c6a492",
   "metadata": {},
   "source": [
    "* After 45 days has passed there is 6.6Kg of stubstance.\n",
    "* Again, limited by input data and unknown precision of the model; I haved rounded to 1 decimal place."
   ]
  },
  {
   "cell_type": "markdown",
   "id": "ec559d17-86c1-4e1b-827a-8977d418417c",
   "metadata": {},
   "source": [
    "_(b) When a certain medical drug is administered to a patient, the number of milligrams remaining in the patient's bloodstream after t hours is modeled by:_"
   ]
  },
  {
   "cell_type": "markdown",
   "id": "659d7baa-fed5-4fb1-a946-7b1f7505ac1c",
   "metadata": {},
   "source": [
    "$D(t) = 50e^{−0.2t}$"
   ]
  },
  {
   "cell_type": "markdown",
   "id": "bee8eeb5-a14d-41a4-ab0a-a991770c4e24",
   "metadata": {},
   "source": [
    "What is the half life of the drug? (i.e. the time required for the quantity of the drug to reduce to half of its initial value.)\n",
    "\n",
    "**(b)**"
   ]
  },
  {
   "cell_type": "markdown",
   "id": "97c11f03-3cc2-492b-bc65-bfffb6cea7c6",
   "metadata": {},
   "source": [
    "Let's rearrange the fomula as an expression of t.  \n",
    "$D = 50e^{−0.2t}$  \n",
    "$D/50 = e^{-0.2t}$  \n",
    "$ln(D/50) = -0.2t$\n",
    "  \n",
    "(note: $-0.2 = -1/5$ )\n",
    "\n",
    "$-5ln(D/50) = t$\n",
    "\n",
    "New expression: $t(D) = -5ln({D/50})$  \n",
    "The question is now: find t when D is 0.5"
   ]
  },
  {
   "cell_type": "code",
   "execution_count": 125,
   "id": "0d8d7adc-8e5d-4e26-a63b-183e29500d70",
   "metadata": {},
   "outputs": [
    {
     "name": "stdout",
     "output_type": "stream",
     "text": [
      "23.025850929940454\n"
     ]
    }
   ],
   "source": [
    "#math.log() accepts two args, the second being the base.\n",
    "# If left empty it uses base e\n",
    "t = -5*math.log(0.5/50)\n",
    "print(t)"
   ]
  },
  {
   "cell_type": "markdown",
   "id": "8a3171b3-62b1-49eb-8c45-02449ebc6629",
   "metadata": {},
   "source": [
    "* The half life of the drug is 23 days."
   ]
  },
  {
   "cell_type": "markdown",
   "id": "f9e3fff0-5f10-4e1f-bbd6-be8f4bbd1bb1",
   "metadata": {},
   "source": [
    "_3. (3 points)  \n",
    "(a) A certain strain of bacteria divides every 3 hours. If a colony is started with 50 bacteria, then the time t (in hours) required for the colony to grow to N bacteria is given by:_"
   ]
  },
  {
   "cell_type": "markdown",
   "id": "27bd3933-ca24-46b3-867a-a48613a0a4ae",
   "metadata": {},
   "source": [
    "$t = log(N/50) / log(2)$"
   ]
  },
  {
   "cell_type": "markdown",
   "id": "a806b95f-1e03-4f65-8260-d17ef3db3727",
   "metadata": {},
   "source": [
    "Find the time required for the colony to grow to a million bacteria."
   ]
  },
  {
   "cell_type": "markdown",
   "id": "cec6c3a6-4ebd-4ef7-b2c3-df0dbb74693b",
   "metadata": {},
   "source": [
    "**(a)**\n",
    "  \n",
    "Change of base rule: $log_a b = (log_c b) / (log_c a)$\n",
    "\n",
    "Applying this rule gives: $t = log_2(N/50)$  \n",
    "Find t when N = 1,000,000"
   ]
  },
  {
   "cell_type": "code",
   "execution_count": 126,
   "id": "37d0795b-139e-420f-ab70-774874414d6e",
   "metadata": {},
   "outputs": [
    {
     "name": "stdout",
     "output_type": "stream",
     "text": [
      "14.287712379549449\n"
     ]
    }
   ],
   "source": [
    "t=math.log(1000000/50,2)\n",
    "print(t)"
   ]
  },
  {
   "cell_type": "markdown",
   "id": "4ab4d5d7-9ff2-450a-92bd-6ae2141f34dc",
   "metadata": {},
   "source": [
    "* It would take 14 hours for the colony to grow a million bacteria."
   ]
  },
  {
   "cell_type": "markdown",
   "id": "282fb6f7-dde5-4b17-89d1-453e70b77647",
   "metadata": {},
   "source": [
    "_(b) The time required to double the amount of an investment at an interest rate r compounded continuously is given by:_\n",
    "\n",
    "$t = ln(2)/r$\n",
    "\n",
    "Find the time required to double an investment at 6%, 7%, and 8%."
   ]
  },
  {
   "cell_type": "markdown",
   "id": "662730b0-77a1-4896-ab37-24e1e4f3d137",
   "metadata": {},
   "source": [
    "**(b)**"
   ]
  },
  {
   "cell_type": "code",
   "execution_count": 130,
   "id": "1ff5ca2d-4fb3-40e2-a903-9b663bd5f4cb",
   "metadata": {},
   "outputs": [
    {
     "name": "stdout",
     "output_type": "stream",
     "text": [
      "11.552453009332423\n",
      "9.902102579427789\n",
      "8.664339756999317\n"
     ]
    }
   ],
   "source": [
    "def double_investment(r):\n",
    "    t=math.log(2)/r\n",
    "    return t\n",
    "\n",
    "print(double_investment(0.06))\n",
    "print(double_investment(0.07))\n",
    "print(double_investment(0.08))"
   ]
  },
  {
   "cell_type": "markdown",
   "id": "3ed7cc49-4315-49d5-a07a-34b24408d918",
   "metadata": {},
   "source": [
    "* At an interest rate of 6%, the time taken to double an investment is 11.55 Years.\n",
    "* At an interest rate of 7%, the time taken to double an investment is 9.90 Years.\n",
    "* At an interest rate of 8%, the time taken to double an investment is 8.66 Years.\n",
    "* This model doesn't specifiy units for time. I have assumed years as interest rate is typically given as APR (Annual Percentage Rate)."
   ]
  },
  {
   "cell_type": "markdown",
   "id": "388df596-cf3a-48c8-b17f-c299724b024e",
   "metadata": {},
   "source": [
    "_(c) The rate at which a battery charges is slower the closer the battery is to its maximum charge $C_0$. The time (in hours) required to charge a fully discharged battery to a charge $C$ is given by:_"
   ]
  },
  {
   "cell_type": "markdown",
   "id": "de0ece78-913f-405b-99f5-17f4ce3d6b3b",
   "metadata": {},
   "source": [
    "$t = -k \\cdot ln(1-C/C_0)$"
   ]
  },
  {
   "cell_type": "markdown",
   "id": "b914f09d-8b40-4205-a3b8-144cc5d9ffff",
   "metadata": {},
   "source": [
    "Where k is a positive constant that depends on the battery.\n",
    "\n",
    "For a certain battery, k = 0.25  \n",
    "If this battery is fully discharged, how long will it take to charge to 90% of its maximum charge $C_0$?"
   ]
  },
  {
   "cell_type": "markdown",
   "id": "3807ab1a-4092-4b7f-8a5e-8d10ea9ad736",
   "metadata": {},
   "source": [
    "**(c)**\n",
    "\n",
    "It seems battery charge $C$ and $C_0$ are expressed as percentages.  \n",
    "I will use $C=0.9$ and $C_0=1$  \n",
    "Evaluating inside the backets:  \n",
    "$1- 0.9/1 = 0.1$"
   ]
  },
  {
   "cell_type": "code",
   "execution_count": 128,
   "id": "bd800483-5e67-4cac-91f0-2ef922e47dd1",
   "metadata": {},
   "outputs": [
    {
     "name": "stdout",
     "output_type": "stream",
     "text": [
      "34.538776394910684\n"
     ]
    }
   ],
   "source": [
    "t=-0.25*(math.log(0.1))\n",
    "\n",
    "#result for t above is less than 1, convert to minutes\n",
    "print(t*60)"
   ]
  },
  {
   "cell_type": "markdown",
   "id": "80b5aa14-b69a-4ccd-adcc-8f3c1c824a32",
   "metadata": {},
   "source": [
    "* It will take 34 and a half minutes to charge the battery from fully discharged to 90% maximum charge."
   ]
  },
  {
   "cell_type": "markdown",
   "id": "5488a152-f06d-4621-bf64-c15c7f76861b",
   "metadata": {},
   "source": [
    "_4. (2 points) Vilfredo Pareto (1848-1923) observed that most of the wealth of a country is owned by a few members of the population. Pareto's Principle is:  \n",
    "$log(P) = log(c) -k \\cdot log(W)$  \n",
    "Where W is the wealth level (how much money a person has) and P is the number of people in the population having that much money._"
   ]
  },
  {
   "cell_type": "markdown",
   "id": "c098d5fd-ee98-4e6b-a37c-1d089de02f69",
   "metadata": {},
   "source": [
    "(a) Solve the equation for P.  \n",
    "**(a)**\n",
    "\n",
    "$k \\cdot log(W) = log(c) - log(P)$  \n",
    "Logarithmic subtraction rule: $log(a/b) = log(a) - log(b)$  \n",
    "Applying this rule gives:  \n",
    "$k \\cdot log(W) = log(c/P)$  \n",
    "Another log rule: $log(a^b) = b \\cdot log(a)$  \n",
    "$log(W^k) = log(c/P)$  \n",
    "Exponenting both sides for log base 10 gives:  \n",
    "$W^k = c/P$  \n",
    "$P = c/(W^k)$"
   ]
  },
  {
   "cell_type": "markdown",
   "id": "55cea1e4-f43c-46e2-ac29-f85afd21bd9e",
   "metadata": {},
   "source": [
    "_(b) Assume that k = 2.1 and c = 8000, and that W is measured in millions of dollars.  \n",
    "Use part (a) to find the number of people who have two million dollars or more.  \n",
    "How many people have ten million dollars or more?_\n",
    "\n",
    "**(b)**"
   ]
  },
  {
   "cell_type": "code",
   "execution_count": 129,
   "id": "8d929cf8-bf35-45cb-afc2-4380c6997a1f",
   "metadata": {},
   "outputs": [
    {
     "name": "stdout",
     "output_type": "stream",
     "text": [
      "1866.065983073615\n",
      "63.546258777942505\n"
     ]
    }
   ],
   "source": [
    "#This question is about evaluating P(W)\n",
    "\n",
    "def Pareto_People(W):     \n",
    "    P=8000/(W**2.1)\n",
    "    return P\n",
    "\n",
    "print(Pareto_People(2))\n",
    "print(Pareto_People(10))"
   ]
  },
  {
   "cell_type": "markdown",
   "id": "3d1e8c80-7d56-4c2f-85cf-643821563eff",
   "metadata": {},
   "source": [
    "* 1866 People have two million dollars or more.\n",
    "* 63 People have 10 million dollars or more."
   ]
  }
 ],
 "metadata": {
  "kernelspec": {
   "display_name": "Python 3 (ipykernel)",
   "language": "python",
   "name": "python3"
  },
  "language_info": {
   "codemirror_mode": {
    "name": "ipython",
    "version": 3
   },
   "file_extension": ".py",
   "mimetype": "text/x-python",
   "name": "python",
   "nbconvert_exporter": "python",
   "pygments_lexer": "ipython3",
   "version": "3.11.6"
  }
 },
 "nbformat": 4,
 "nbformat_minor": 5
}
