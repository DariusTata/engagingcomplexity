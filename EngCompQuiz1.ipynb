{
 "cells": [
  {
   "cell_type": "markdown",
   "id": "dec87fbd-d734-4aa2-99cb-51ac355baf2a",
   "metadata": {},
   "source": [
    "## Engaging Complexity\n",
    "### Quiz 1\n",
    "\n",
    "#### Github link:  https://github.com/DariusTata/engagingcomplexity\n",
    "\n",
    "*In the problems below, where it says 'plot' this means generating the plot in the computer. You can do this using Python, Excel, or analogous software. Remember to label your figures and include units (where required).*"
   ]
  },
  {
   "cell_type": "markdown",
   "id": "9330167e-e493-43f2-a4a0-f6b4ebcbc8df",
   "metadata": {},
   "source": [
    "*1. (2 points)* As blood moves through a vein or an artery, its velocity v is greatest along the central axis and decreases as the distance r from the central axis increases. The formula that gives v as a function of r is called the law of laminar flow. For an artery with radius 0.5 cm, the relationship between v (in cm/s) and r (in cm) is given by the function v(r) = 18500(0.25 − r2), 0 ≤ r ≤ 0.5."
   ]
  },
  {
   "cell_type": "markdown",
   "id": "fc290967-128b-4385-a211-6d01c49608dd",
   "metadata": {},
   "source": [
    "a) Find v(0.1) and v(0.4)"
   ]
  },
  {
   "cell_type": "code",
   "execution_count": 53,
   "id": "73b77eee-6c06-490c-a59f-b6ccb784cedb",
   "metadata": {},
   "outputs": [
    {
     "name": "stdout",
     "output_type": "stream",
     "text": [
      "At  0 cm radius from the central axis, the flow velcotiy is  4625.0 cm/s.\n",
      "At  0.1 cm radius from the central axis, the flow velcotiy is  4440.0 cm/s.\n",
      "At  0.2 cm radius from the central axis, the flow velcotiy is  3885.0 cm/s.\n",
      "At  0.30000000000000004 cm radius from the central axis, the flow velcotiy is  2959.9999999999995 cm/s.\n",
      "At  0.4 cm radius from the central axis, the flow velcotiy is  1664.9999999999993 cm/s.\n",
      "At  0.5 cm radius from the central axis, the flow velcotiy is  0.0 cm/s.\n"
     ]
    }
   ],
   "source": [
    "r = 0\n",
    "\n",
    "while 0 <= r and r <= 0.5:\n",
    "    v = 18500*(.25-(r**2))\n",
    "    print('At ', r, 'cm radius from the central axis, the flow velcotiy is ', v, 'cm/s.')\n",
    "    r = r + 0.1\n"
   ]
  },
  {
   "cell_type": "markdown",
   "id": "bf2e645e-20d9-4304-a7fb-c6772c392b6e",
   "metadata": {},
   "source": [
    "**1a)**  \n",
    "v(0.1) = 4440.0 cm/s  \n",
    "v(0.4) = 1664.9999999999993 cm/s  \n",
    "\n",
    "Our variable data only has one significant figure, lets round to 2 sig figs.\n"
   ]
  },
  {
   "cell_type": "code",
   "execution_count": 111,
   "id": "4988db0d-5fec-4aea-a342-7eba8cdb43c1",
   "metadata": {},
   "outputs": [
    {
     "name": "stdout",
     "output_type": "stream",
     "text": [
      "At  0 cm radius from the central axis, the flow velcotiy is  4600.0 cm/s.\n",
      "At  0.1 cm radius from the central axis, the flow velcotiy is  4400.0 cm/s.\n",
      "At  0.2 cm radius from the central axis, the flow velcotiy is  3900.0 cm/s.\n",
      "At  0.3 cm radius from the central axis, the flow velcotiy is  3000.0 cm/s.\n",
      "At  0.4 cm radius from the central axis, the flow velcotiy is  1700.0 cm/s.\n",
      "At  0.5 cm radius from the central axis, the flow velcotiy is  0.0 cm/s.\n"
     ]
    }
   ],
   "source": [
    "r = 0\n",
    "\n",
    "while 0 <= r and r <= 0.5:\n",
    "    v = 18500*(.25-(r**2))\n",
    "    v_rounded = round(v, -2)\n",
    "    #lets also round r due to the weird behaviour at r = 0.3\n",
    "    #The round() function takes negative integers for rounding before the decimal\n",
    "    # and positive integers for rounding after the decimals\n",
    "    r_rounded = round(r, 2)\n",
    "    print('At ', r_rounded, 'cm radius from the central axis, the flow velcotiy is ', v_rounded, 'cm/s.')\n",
    "    r = r + 0.1"
   ]
  },
  {
   "cell_type": "markdown",
   "id": "f01bcffc-56f5-49aa-90c0-87e6d641be1b",
   "metadata": {},
   "source": [
    "Therefore:  \n",
    "v(0.1) = 4400 cm/s  \n",
    "v(0.4) = 1700 cm/s  \n",
    "\n",
    "---"
   ]
  },
  {
   "cell_type": "markdown",
   "id": "00dd7e30-9234-4fdb-9418-1ab1a553ba71",
   "metadata": {},
   "source": [
    "b) What do your answers to part (a) tell you about the flow of blood in this artery?"
   ]
  },
  {
   "cell_type": "markdown",
   "id": "cede2fa8-8eb8-49cc-aee5-d73fbe0cb45a",
   "metadata": {},
   "source": [
    "**1b)**  \n",
    "Blow flows more slowly the further from the centre. ie follows the law of laminar flow.\n",
    "\n",
    "---"
   ]
  },
  {
   "cell_type": "markdown",
   "id": "b9d66afb-d4c5-4514-853a-7470ed8f3d71",
   "metadata": {},
   "source": [
    "c) Make a table of values of v(r) for r = 0, 0.1, 0.2, 0.3, 0.4, 0.5"
   ]
  },
  {
   "cell_type": "code",
   "execution_count": 112,
   "id": "ddbe6d47-37fe-4614-b6db-7d58fe0117bc",
   "metadata": {},
   "outputs": [
    {
     "data": {
      "text/html": [
       "<div>\n",
       "<style scoped>\n",
       "    .dataframe tbody tr th:only-of-type {\n",
       "        vertical-align: middle;\n",
       "    }\n",
       "\n",
       "    .dataframe tbody tr th {\n",
       "        vertical-align: top;\n",
       "    }\n",
       "\n",
       "    .dataframe thead th {\n",
       "        text-align: right;\n",
       "    }\n",
       "</style>\n",
       "<table border=\"1\" class=\"dataframe\">\n",
       "  <thead>\n",
       "    <tr style=\"text-align: right;\">\n",
       "      <th></th>\n",
       "      <th>r (cm)</th>\n",
       "      <th>v (cm/s)</th>\n",
       "    </tr>\n",
       "  </thead>\n",
       "  <tbody>\n",
       "    <tr>\n",
       "      <th>0</th>\n",
       "      <td>0.0</td>\n",
       "      <td>0.0</td>\n",
       "    </tr>\n",
       "    <tr>\n",
       "      <th>1</th>\n",
       "      <td>0.1</td>\n",
       "      <td>0.0</td>\n",
       "    </tr>\n",
       "    <tr>\n",
       "      <th>2</th>\n",
       "      <td>0.2</td>\n",
       "      <td>0.0</td>\n",
       "    </tr>\n",
       "    <tr>\n",
       "      <th>3</th>\n",
       "      <td>0.3</td>\n",
       "      <td>0.0</td>\n",
       "    </tr>\n",
       "    <tr>\n",
       "      <th>4</th>\n",
       "      <td>0.4</td>\n",
       "      <td>0.0</td>\n",
       "    </tr>\n",
       "    <tr>\n",
       "      <th>5</th>\n",
       "      <td>0.5</td>\n",
       "      <td>0.0</td>\n",
       "    </tr>\n",
       "  </tbody>\n",
       "</table>\n",
       "</div>"
      ],
      "text/plain": [
       "   r (cm)  v (cm/s)\n",
       "0     0.0       0.0\n",
       "1     0.1       0.0\n",
       "2     0.2       0.0\n",
       "3     0.3       0.0\n",
       "4     0.4       0.0\n",
       "5     0.5       0.0"
      ]
     },
     "execution_count": 112,
     "metadata": {},
     "output_type": "execute_result"
    }
   ],
   "source": [
    "import pandas as pd\n",
    "import numpy as np\n",
    "\n",
    "#initalise the table\n",
    "q1 = {\n",
    "    'r (cm)': [0, 0.1, 0.2, 0.3, 0.4, 0.5],\n",
    "    'v (cm/s)': [0.0, 0.0, 0.0, 0.0, 0.0, 0],\n",
    "}\n",
    "\n",
    "q1_df = pd.DataFrame(data=q1)\n",
    "#show the table in the notebook\n",
    "q1_df"
   ]
  },
  {
   "cell_type": "code",
   "execution_count": 113,
   "id": "6bb590d5-e89d-4a37-8d4a-4524138830ef",
   "metadata": {},
   "outputs": [
    {
     "name": "stdout",
     "output_type": "stream",
     "text": [
      "4600.0\n",
      "4400.0\n",
      "3900.0\n",
      "1700.0\n",
      "0.0\n"
     ]
    },
    {
     "data": {
      "text/html": [
       "<div>\n",
       "<style scoped>\n",
       "    .dataframe tbody tr th:only-of-type {\n",
       "        vertical-align: middle;\n",
       "    }\n",
       "\n",
       "    .dataframe tbody tr th {\n",
       "        vertical-align: top;\n",
       "    }\n",
       "\n",
       "    .dataframe thead th {\n",
       "        text-align: right;\n",
       "    }\n",
       "</style>\n",
       "<table border=\"1\" class=\"dataframe\">\n",
       "  <thead>\n",
       "    <tr style=\"text-align: right;\">\n",
       "      <th></th>\n",
       "      <th>r (cm)</th>\n",
       "      <th>v (cm/s)</th>\n",
       "    </tr>\n",
       "  </thead>\n",
       "  <tbody>\n",
       "    <tr>\n",
       "      <th>0</th>\n",
       "      <td>0.0</td>\n",
       "      <td>4600.0</td>\n",
       "    </tr>\n",
       "    <tr>\n",
       "      <th>1</th>\n",
       "      <td>0.1</td>\n",
       "      <td>4400.0</td>\n",
       "    </tr>\n",
       "    <tr>\n",
       "      <th>2</th>\n",
       "      <td>0.2</td>\n",
       "      <td>3900.0</td>\n",
       "    </tr>\n",
       "    <tr>\n",
       "      <th>3</th>\n",
       "      <td>0.3</td>\n",
       "      <td>0.0</td>\n",
       "    </tr>\n",
       "    <tr>\n",
       "      <th>4</th>\n",
       "      <td>0.4</td>\n",
       "      <td>1700.0</td>\n",
       "    </tr>\n",
       "    <tr>\n",
       "      <th>5</th>\n",
       "      <td>0.5</td>\n",
       "      <td>0.0</td>\n",
       "    </tr>\n",
       "  </tbody>\n",
       "</table>\n",
       "</div>"
      ],
      "text/plain": [
       "   r (cm)  v (cm/s)\n",
       "0     0.0    4600.0\n",
       "1     0.1    4400.0\n",
       "2     0.2    3900.0\n",
       "3     0.3       0.0\n",
       "4     0.4    1700.0\n",
       "5     0.5       0.0"
      ]
     },
     "execution_count": 113,
     "metadata": {},
     "output_type": "execute_result"
    }
   ],
   "source": [
    "#reinitalise variable r since we are going to modify the code from earlier and use the same variable names as before\n",
    "r = 0\n",
    "#populate the table with the function results\n",
    "for i, row in q1_df.iterrows():\n",
    "    v = 18500*(.25-(r**2))\n",
    "    v_rounded = round(v, -2)\n",
    "    if r == row['r (cm)']:\n",
    "        q1_df.at[i, 'v (cm/s)'] = v_rounded\n",
    "        print(v_rounded)\n",
    "    \n",
    "    r = r + 0.1\n",
    "q1_df"
   ]
  },
  {
   "cell_type": "markdown",
   "id": "ed8f47c9-5968-4ea0-808d-34d1d3d588c1",
   "metadata": {},
   "source": [
    "The value for v at r = 0.3 is suffering from the same issue as earlier. Let's use the index as a comparator instead."
   ]
  },
  {
   "cell_type": "code",
   "execution_count": 114,
   "id": "e2728c3e-6688-40c4-8a86-a1b828a33473",
   "metadata": {},
   "outputs": [
    {
     "data": {
      "text/html": [
       "<div>\n",
       "<style scoped>\n",
       "    .dataframe tbody tr th:only-of-type {\n",
       "        vertical-align: middle;\n",
       "    }\n",
       "\n",
       "    .dataframe tbody tr th {\n",
       "        vertical-align: top;\n",
       "    }\n",
       "\n",
       "    .dataframe thead th {\n",
       "        text-align: right;\n",
       "    }\n",
       "</style>\n",
       "<table border=\"1\" class=\"dataframe\">\n",
       "  <thead>\n",
       "    <tr style=\"text-align: right;\">\n",
       "      <th></th>\n",
       "      <th>r (cm)</th>\n",
       "      <th>v (cm/s)</th>\n",
       "    </tr>\n",
       "  </thead>\n",
       "  <tbody>\n",
       "    <tr>\n",
       "      <th>0</th>\n",
       "      <td>0.0</td>\n",
       "      <td>4600.0</td>\n",
       "    </tr>\n",
       "    <tr>\n",
       "      <th>1</th>\n",
       "      <td>0.1</td>\n",
       "      <td>4400.0</td>\n",
       "    </tr>\n",
       "    <tr>\n",
       "      <th>2</th>\n",
       "      <td>0.2</td>\n",
       "      <td>3900.0</td>\n",
       "    </tr>\n",
       "    <tr>\n",
       "      <th>3</th>\n",
       "      <td>0.3</td>\n",
       "      <td>3000.0</td>\n",
       "    </tr>\n",
       "    <tr>\n",
       "      <th>4</th>\n",
       "      <td>0.4</td>\n",
       "      <td>1700.0</td>\n",
       "    </tr>\n",
       "    <tr>\n",
       "      <th>5</th>\n",
       "      <td>0.5</td>\n",
       "      <td>0.0</td>\n",
       "    </tr>\n",
       "  </tbody>\n",
       "</table>\n",
       "</div>"
      ],
      "text/plain": [
       "   r (cm)  v (cm/s)\n",
       "0     0.0    4600.0\n",
       "1     0.1    4400.0\n",
       "2     0.2    3900.0\n",
       "3     0.3    3000.0\n",
       "4     0.4    1700.0\n",
       "5     0.5       0.0"
      ]
     },
     "execution_count": 114,
     "metadata": {},
     "output_type": "execute_result"
    }
   ],
   "source": [
    "r = 0\n",
    "#populate the table with the function results\n",
    "for i, row in q1_df.iterrows():\n",
    "    v = 18500*(.25-(r**2))\n",
    "    v_rounded = round(v, -2)\n",
    "    if i/10 == row['r (cm)']:\n",
    "        q1_df.at[i, 'v (cm/s)'] = v_rounded\n",
    "    r = r + 0.1\n",
    "q1_df"
   ]
  },
  {
   "cell_type": "markdown",
   "id": "c6abeb38-968e-4ca0-85d8-d33eb7ee32b5",
   "metadata": {},
   "source": [
    "**1c)**  See table above.\n",
    "\n",
    "---"
   ]
  },
  {
   "cell_type": "markdown",
   "id": "4bf5beec-fe4b-4241-8261-17a2225a9b39",
   "metadata": {},
   "source": [
    "(d) Sketch by hand the graph of v."
   ]
  },
  {
   "cell_type": "markdown",
   "id": "d86bf2c2-e3d0-4910-acf1-8c9a506bf06d",
   "metadata": {},
   "source": [
    "**1d)**"
   ]
  },
  {
   "cell_type": "markdown",
   "id": "82e8b6dd-b82d-4907-a9ca-5e305bf40e79",
   "metadata": {},
   "source": [
    "---\n",
    "*2. (2 points)*  \n",
    "a) As a weather balloon is inflated, the thickness T of its rubber skin is related to the radius of the balloon by  \n",
    "`T(r) = 0.5 / r^2`  \n",
    "where T and r and measured in centimeters. Plot the function T for values of r between 10 and 100."
   ]
  },
  {
   "cell_type": "markdown",
   "id": "2a781c34-0b87-48e1-9535-8ec59f64cbfc",
   "metadata": {},
   "source": [
    "**2a)**  \n",
    "First I create a dataframe with the range for r between 10 and 100."
   ]
  },
  {
   "cell_type": "code",
   "execution_count": 194,
   "id": "75ada62f-5597-4c16-af2a-29e93127edb9",
   "metadata": {},
   "outputs": [
    {
     "data": {
      "text/html": [
       "<div>\n",
       "<style scoped>\n",
       "    .dataframe tbody tr th:only-of-type {\n",
       "        vertical-align: middle;\n",
       "    }\n",
       "\n",
       "    .dataframe tbody tr th {\n",
       "        vertical-align: top;\n",
       "    }\n",
       "\n",
       "    .dataframe thead th {\n",
       "        text-align: right;\n",
       "    }\n",
       "</style>\n",
       "<table border=\"1\" class=\"dataframe\">\n",
       "  <thead>\n",
       "    <tr style=\"text-align: right;\">\n",
       "      <th></th>\n",
       "      <th>r (cm)</th>\n",
       "      <th>T (cm)</th>\n",
       "    </tr>\n",
       "  </thead>\n",
       "  <tbody>\n",
       "    <tr>\n",
       "      <th>0</th>\n",
       "      <td>10</td>\n",
       "      <td>0.0</td>\n",
       "    </tr>\n",
       "    <tr>\n",
       "      <th>1</th>\n",
       "      <td>11</td>\n",
       "      <td>0.0</td>\n",
       "    </tr>\n",
       "    <tr>\n",
       "      <th>2</th>\n",
       "      <td>12</td>\n",
       "      <td>0.0</td>\n",
       "    </tr>\n",
       "    <tr>\n",
       "      <th>3</th>\n",
       "      <td>13</td>\n",
       "      <td>0.0</td>\n",
       "    </tr>\n",
       "    <tr>\n",
       "      <th>4</th>\n",
       "      <td>14</td>\n",
       "      <td>0.0</td>\n",
       "    </tr>\n",
       "    <tr>\n",
       "      <th>...</th>\n",
       "      <td>...</td>\n",
       "      <td>...</td>\n",
       "    </tr>\n",
       "    <tr>\n",
       "      <th>86</th>\n",
       "      <td>96</td>\n",
       "      <td>0.0</td>\n",
       "    </tr>\n",
       "    <tr>\n",
       "      <th>87</th>\n",
       "      <td>97</td>\n",
       "      <td>0.0</td>\n",
       "    </tr>\n",
       "    <tr>\n",
       "      <th>88</th>\n",
       "      <td>98</td>\n",
       "      <td>0.0</td>\n",
       "    </tr>\n",
       "    <tr>\n",
       "      <th>89</th>\n",
       "      <td>99</td>\n",
       "      <td>0.0</td>\n",
       "    </tr>\n",
       "    <tr>\n",
       "      <th>90</th>\n",
       "      <td>100</td>\n",
       "      <td>0.0</td>\n",
       "    </tr>\n",
       "  </tbody>\n",
       "</table>\n",
       "<p>91 rows × 2 columns</p>\n",
       "</div>"
      ],
      "text/plain": [
       "    r (cm)  T (cm)\n",
       "0       10     0.0\n",
       "1       11     0.0\n",
       "2       12     0.0\n",
       "3       13     0.0\n",
       "4       14     0.0\n",
       "..     ...     ...\n",
       "86      96     0.0\n",
       "87      97     0.0\n",
       "88      98     0.0\n",
       "89      99     0.0\n",
       "90     100     0.0\n",
       "\n",
       "[91 rows x 2 columns]"
      ]
     },
     "execution_count": 194,
     "metadata": {},
     "output_type": "execute_result"
    }
   ],
   "source": [
    "import pandas as pd\n",
    "import matplotlib.pyplot as plt\n",
    "\n",
    "#create a dictionary with values for r from 10 to 100 and placeholder floats for T\n",
    "q2 = {\n",
    "    'r (cm)': list(range(10,101))\n",
    "}\n",
    "q2_T = {\n",
    "    'T (cm)': [0.0] * len(q2['r (cm)'])\n",
    "}\n",
    "#merge the dictionaries\n",
    "q2.update(q2_T)\n",
    "\n",
    "#create dataframe from dictionaries\n",
    "q2_df = pd.DataFrame(data=q2)\n",
    "q2_df\n"
   ]
  },
  {
   "cell_type": "markdown",
   "id": "4c415503-b1fa-4cbd-8349-f473372f5a6d",
   "metadata": {},
   "source": [
    "Next I iterate through the table and amend row by row in the T column before passing the dataframe columns to the matplotlib function."
   ]
  },
  {
   "cell_type": "code",
   "execution_count": 195,
   "id": "61a0ae8d-2858-4e7b-a3f6-cd801bd998e0",
   "metadata": {},
   "outputs": [
    {
     "data": {
      "image/png": "[encoded data removed]",
      "text/plain": [
       "<Figure size 640x480 with 1 Axes>"
      ]
     },
     "metadata": {},
     "output_type": "display_data"
    }
   ],
   "source": [
    "#initalise r variable\n",
    "r = 10\n",
    "#update T values in dataframe\n",
    "for i, row in q2_df.iterrows():\n",
    "    T = 0.5/r**2\n",
    "    T_rounded = round(T, 20)\n",
    "    \n",
    "    if i+10 == row['r (cm)']:\n",
    "        #q2_df.at[i, 'T (cm)'] = T\n",
    "        q2_df.at[i, 'T (cm)'] = T_rounded\n",
    "    r = r + 1\n",
    "\n",
    "fig, ax = plt.subplots()\n",
    "ax.plot(q2_df['r (cm)'], q2_df['T (cm)'])\n",
    "ax.set(xlabel='radius (cm)', ylabel='thickness (cm)',\n",
    "       title='T(r) = 0.5/r^2')\n",
    "\n",
    "plt.show()"
   ]
  },
  {
   "cell_type": "markdown",
   "id": "c21ee7a0-9f39-4148-b9ac-5de33481f63f",
   "metadata": {},
   "source": [
    "---\n",
    "b) The power produced by a wind turbine depends on the speed of the wind. If a windmill has blades 3 metres long, then the power P produced by the turbine is modeled by `P (v) = 14.1v^3`, where P is measured in watts (W) and v is measured in metres per second (m/s).  \n",
    "Plot the function P for wind speeds between 1 m/s and 10 m/s.\r\n"
   ]
  },
  {
   "cell_type": "markdown",
   "id": "a6490e13-c691-4d4e-995c-e0f28cabe144",
   "metadata": {},
   "source": [
    "**2b)**  \n",
    "\n",
    "Create a dataframe populated with wind speed `v` values of 1 to 10 m/s."
   ]
  },
  {
   "cell_type": "code",
   "execution_count": 51,
   "id": "9f4065d3-60f4-47c0-a4b9-bcbf768aca40",
   "metadata": {},
   "outputs": [
    {
     "data": {
      "text/html": [
       "<div>\n",
       "<style scoped>\n",
       "    .dataframe tbody tr th:only-of-type {\n",
       "        vertical-align: middle;\n",
       "    }\n",
       "\n",
       "    .dataframe tbody tr th {\n",
       "        vertical-align: top;\n",
       "    }\n",
       "\n",
       "    .dataframe thead th {\n",
       "        text-align: right;\n",
       "    }\n",
       "</style>\n",
       "<table border=\"1\" class=\"dataframe\">\n",
       "  <thead>\n",
       "    <tr style=\"text-align: right;\">\n",
       "      <th></th>\n",
       "      <th>v (m/s)</th>\n",
       "      <th>P (W)</th>\n",
       "    </tr>\n",
       "  </thead>\n",
       "  <tbody>\n",
       "    <tr>\n",
       "      <th>0</th>\n",
       "      <td>1</td>\n",
       "      <td>0.0</td>\n",
       "    </tr>\n",
       "    <tr>\n",
       "      <th>1</th>\n",
       "      <td>2</td>\n",
       "      <td>0.0</td>\n",
       "    </tr>\n",
       "    <tr>\n",
       "      <th>2</th>\n",
       "      <td>3</td>\n",
       "      <td>0.0</td>\n",
       "    </tr>\n",
       "    <tr>\n",
       "      <th>3</th>\n",
       "      <td>4</td>\n",
       "      <td>0.0</td>\n",
       "    </tr>\n",
       "    <tr>\n",
       "      <th>4</th>\n",
       "      <td>5</td>\n",
       "      <td>0.0</td>\n",
       "    </tr>\n",
       "    <tr>\n",
       "      <th>5</th>\n",
       "      <td>6</td>\n",
       "      <td>0.0</td>\n",
       "    </tr>\n",
       "    <tr>\n",
       "      <th>6</th>\n",
       "      <td>7</td>\n",
       "      <td>0.0</td>\n",
       "    </tr>\n",
       "    <tr>\n",
       "      <th>7</th>\n",
       "      <td>8</td>\n",
       "      <td>0.0</td>\n",
       "    </tr>\n",
       "    <tr>\n",
       "      <th>8</th>\n",
       "      <td>9</td>\n",
       "      <td>0.0</td>\n",
       "    </tr>\n",
       "    <tr>\n",
       "      <th>9</th>\n",
       "      <td>10</td>\n",
       "      <td>0.0</td>\n",
       "    </tr>\n",
       "  </tbody>\n",
       "</table>\n",
       "</div>"
      ],
      "text/plain": [
       "   v (m/s)  P (W)\n",
       "0        1    0.0\n",
       "1        2    0.0\n",
       "2        3    0.0\n",
       "3        4    0.0\n",
       "4        5    0.0\n",
       "5        6    0.0\n",
       "6        7    0.0\n",
       "7        8    0.0\n",
       "8        9    0.0\n",
       "9       10    0.0"
      ]
     },
     "execution_count": 51,
     "metadata": {},
     "output_type": "execute_result"
    }
   ],
   "source": [
    "import pandas as pd\n",
    "import matplotlib.pyplot as plt\n",
    "\n",
    "#create a dictionary with values for r from 10 to 100 and placeholder floats for T\n",
    "q2b = {\n",
    "    'v (m/s)': list(range(1,11))\n",
    "}\n",
    "q2b_P = {\n",
    "    'P (W)': [0.0] * len(q2b['v (m/s)'])\n",
    "}\n",
    "#merge the dictionaries\n",
    "q2b.update(q2b_P)\n",
    "\n",
    "#create dataframe from dictionaries\n",
    "q2b_df = pd.DataFrame(data=q2b)\n",
    "q2b_df"
   ]
  },
  {
   "cell_type": "markdown",
   "id": "de04f9e7-9e11-4d75-97b9-96b7412114f6",
   "metadata": {},
   "source": [
    "Next I iterate through the table and amend row by row in the P column before passing the dataframe columns to the matplotlib function."
   ]
  },
  {
   "cell_type": "code",
   "execution_count": 199,
   "id": "e19c2d59-fe23-4e5a-9236-37ecf44f3281",
   "metadata": {},
   "outputs": [
    {
     "data": {
      "image/png": "[encoded data removed]",
      "text/plain": [
       "<Figure size 640x480 with 1 Axes>"
      ]
     },
     "metadata": {},
     "output_type": "display_data"
    }
   ],
   "source": [
    "#initalise v variable\n",
    "v = 1\n",
    "#update T values in dataframe\n",
    "for i, row in q2b_df.iterrows():\n",
    "    P = 14.1*v**3\n",
    "    P_rounded = round(P, 20)\n",
    "    \n",
    "    if i+1 == row['v (m/s)']:\n",
    "        #q2_df.at[i, 'T (cm)'] = T\n",
    "        q2b_df.at[i, 'P (W)'] = P_rounded\n",
    "    v = v + 1\n",
    "\n",
    "fig, ax = plt.subplots()\n",
    "ax.plot(q2b_df['v (m/s)'], q2b_df['P (W)'])\n",
    "ax.set(xlabel='wind speed (m/s)', ylabel='Power (W)',\n",
    "       title='P(v) = 14.1v^3')\n",
    "\n",
    "plt.show()"
   ]
  },
  {
   "cell_type": "markdown",
   "id": "f7fb6977-2960-4d12-95bc-e59ab3705f5a",
   "metadata": {},
   "source": [
    "*3. (2 points)*\n",
    "A sequence is defined recursively by the given formulas. Find the first five\r\n",
    "terms of each sequence.\r\n",
    "(a) an = 2<sub>(</sub>an−1 + 3) and a1 = 4.\r\n",
    "(b) an /( 1\r\n",
    "1+)an−1 and a1 = 1.\r\n",
    "(c) an = an−1 − an−2 and a1 = 1, a2 = 3."
   ]
  },
  {
   "cell_type": "markdown",
   "id": "fad76e03-2fe3-4136-bd41-bcbcf6fa96c1",
   "metadata": {},
   "source": [
    "*3. (2 points)*  \n",
    "A sequence is defined recursively by the given formulas. Find the first five terms of each sequence.  \n",
    "a) a<sub>n</sub>= 2(a<sub>n-1</sub> +3) and a<sub>1</sub>=4  \n",
    "b) a<sub>n</sub>= 1/(1 +a<sub>n-1</sub>) and a<sub>1</sub>=1  \n",
    "c) a<sub>n</sub>= a<sub>n-1</sub> - a<sub>n-2</sub> and a<sub>1</sub>=1 , a<sub>2</sub>=3"
   ]
  },
  {
   "cell_type": "markdown",
   "id": "d3caeeb2-878f-4586-8c0e-6ded67eaeaee",
   "metadata": {},
   "source": [
    "**3a)**\n"
   ]
  },
  {
   "cell_type": "code",
   "execution_count": 218,
   "id": "500aeabf-f7ba-4f8a-8e39-1c11f730f64c",
   "metadata": {},
   "outputs": [
    {
     "name": "stdout",
     "output_type": "stream",
     "text": [
      "Term 1 in the sequence is 4\n",
      "Term 2 in the sequence is 14\n",
      "Term 3 in the sequence is 34\n",
      "Term 4 in the sequence is 74\n",
      "Term 5 in the sequence is 154\n"
     ]
    }
   ],
   "source": [
    "a = 4\n",
    "print('Term 1 in the sequence is',a)\n",
    "\n",
    "for i in range(2,6):\n",
    "    a = 2*(a+3)\n",
    "    print('Term',i,'in the sequence is',a)\n",
    "    i = i +1"
   ]
  },
  {
   "cell_type": "markdown",
   "id": "3b184a74-396d-4e24-bb09-ad2282e70c21",
   "metadata": {},
   "source": [
    "**3b)**"
   ]
  },
  {
   "cell_type": "code",
   "execution_count": 220,
   "id": "790183a8-2fc7-4dd4-86c0-a41eb87ff103",
   "metadata": {},
   "outputs": [
    {
     "name": "stdout",
     "output_type": "stream",
     "text": [
      "Term 1 in the sequence is 1\n",
      "Term 2 in the sequence is 1 / 2\n",
      "Term 3 in the sequence is 1 / 3\n",
      "Term 4 in the sequence is 1 / 4\n",
      "Term 5 in the sequence is 1 / 5\n"
     ]
    }
   ],
   "source": [
    "a = 1\n",
    "print('Term 1 in the sequence is',a)\n",
    "\n",
    "for i in range(2,6):\n",
    "    a = (1+a)\n",
    "    print('Term',i,'in the sequence is 1 /',a)\n",
    "    i = i + 1"
   ]
  },
  {
   "cell_type": "markdown",
   "id": "6859bc14-9cb7-4c56-a3c8-f016faa5638a",
   "metadata": {},
   "source": [
    "**3c)**"
   ]
  },
  {
   "cell_type": "code",
   "execution_count": 25,
   "id": "1e00d6b3-5b7b-4613-a8fe-a4c5ed142091",
   "metadata": {},
   "outputs": [
    {
     "name": "stdout",
     "output_type": "stream",
     "text": [
      "Term 1 in the sequence is 1\n",
      "Term 2 in the sequence is 3\n",
      "Term 3 in the sequence is 2\n",
      "Term 4 in the sequence is -1\n",
      "Term 5 in the sequence is -3\n"
     ]
    }
   ],
   "source": [
    "terms = [1,3]\n",
    "\n",
    "for i in range(2,5):\n",
    "    a = terms[(i-1)] - terms[(i-2)]\n",
    "    #add the new sequence term to the list\n",
    "    terms.append(a)\n",
    "\n",
    "for i in terms:\n",
    "    #increase index by 1 so it makes intutitve sense in natural language\n",
    "    sequence_index = terms.index(i)+1\n",
    "    print('Term',sequence_index,'in the sequence is',i)"
   ]
  },
  {
   "cell_type": "markdown",
   "id": "40bfd2cb-21ce-487c-add4-39c8f76baad3",
   "metadata": {},
   "source": [
    "*4. (2 points)*  \n",
    "Plot the first 100 terms of the following sequences:  \n",
    "(a) a<sub>n</sub> = a<sub>n-1</sub>+a<sub>n-2</sub>+a<sub>n-3</sub> and a<sub>1</sub>=a<sub>2</sub>=a<sub>3</sub>=1  \n",
    "(b) a<sub>n</sub> = a<sub>n-1</sub>-2a<sub>n-2</sub> and a<sub>1</sub>=a<sub>2</sub>=1  \n",
    "(c) a<sub>n</sub> = 4a<sub>n-1</sub>(1-a<sub>n-1</sub>) and a<sub>1</sub>=0.2"
   ]
  },
  {
   "cell_type": "markdown",
   "id": "4dc1ddf4-b8ce-4696-8e01-e7c2429be83d",
   "metadata": {},
   "source": [
    "**4a)**"
   ]
  },
  {
   "cell_type": "code",
   "execution_count": 67,
   "id": "65720448-9915-4278-8385-b53f15aa602f",
   "metadata": {},
   "outputs": [
    {
     "data": {
      "image/png": "[encoded data removed]",
      "text/plain": [
       "<Figure size 640x480 with 1 Axes>"
      ]
     },
     "metadata": {},
     "output_type": "display_data"
    }
   ],
   "source": [
    "import matplotlib.pyplot as plt\n",
    "\n",
    "terms_4a = [1,1,1]\n",
    "\n",
    "for i in range(3,100):\n",
    "    a = terms_4a[i-1] + terms_4a[i-2] + terms_4a[i-3]\n",
    "    #print(a)\n",
    "    terms_4a.append(a)\n",
    "\n",
    "#print(terms_4a)\n",
    "\n",
    "df_4a = pd.DataFrame(data=terms_4a)\n",
    "# Rename columns\n",
    "#df_4a.rename(columns={'0': 'a'}, inplace=False)\n",
    "df_4a = df_4a.rename(columns={0: 'a'})\n",
    "#print(df_4a)\n",
    "\n",
    "fig, ax = plt.subplots()\n",
    "ax.plot(df_4a.index, df_4a['a'])\n",
    "ax.set(xlabel='n', ylabel='a',\n",
    "       title=('4a)')\n",
    "      )\n",
    "plt.show()"
   ]
  },
  {
   "cell_type": "markdown",
   "id": "7f65abf5-a271-4ac7-8561-825d67b41547",
   "metadata": {},
   "source": [
    "**4b)**"
   ]
  },
  {
   "cell_type": "code",
   "execution_count": 73,
   "id": "663467d3-d0fb-414a-a219-ef3fdf2a6f3d",
   "metadata": {},
   "outputs": [
    {
     "data": {
      "image/png": "[encoded data removed]",
      "text/plain": [
       "<Figure size 640x480 with 1 Axes>"
      ]
     },
     "metadata": {},
     "output_type": "display_data"
    }
   ],
   "source": [
    "terms_4b = [1,1]\n",
    "\n",
    "for i in range(2,100):\n",
    "    a = terms_4b[i-1] - 2*terms_4b[i-2]\n",
    "    terms_4b.append(a)\n",
    "\n",
    "#print(terms_4b)\n",
    "df_4b = pd.DataFrame(data=terms_4b)\n",
    "df_4b = df_4b.rename(columns={0: 'a'})\n",
    "#print(df_4b)\n",
    "\n",
    "fig, ax = plt.subplots()\n",
    "ax.plot(df_4b.index, df_4b['a'])\n",
    "ax.set(xlabel='n', ylabel='a',\n",
    "       title=('4b)')\n",
    "      )\n",
    "plt.show()"
   ]
  },
  {
   "cell_type": "markdown",
   "id": "269b0f93-aefc-47cd-bbde-5d31aa7a9b7a",
   "metadata": {},
   "source": [
    "**4c)**"
   ]
  },
  {
   "cell_type": "code",
   "execution_count": 74,
   "id": "841d5cb3-e217-483b-bca6-37304fdf8879",
   "metadata": {},
   "outputs": [
    {
     "data": {
      "image/png": "[encoded data removed]",
      "text/plain": [
       "<Figure size 640x480 with 1 Axes>"
      ]
     },
     "metadata": {},
     "output_type": "display_data"
    }
   ],
   "source": [
    "terms_4c = [0.2]\n",
    "\n",
    "for i in range(1,100):\n",
    "    a = 4*terms_4c[i-1] * (1-terms_4c[i-1])\n",
    "    terms_4c.append(a)\n",
    "\n",
    "df_4c = pd.DataFrame(data=terms_4c)\n",
    "df_4c = df_4c.rename(columns={0: 'a'})\n",
    "\n",
    "fig, ax = plt.subplots()\n",
    "ax.plot(df_4c.index, df_4c['a'])\n",
    "ax.set(xlabel='n', ylabel='a',\n",
    "       title=('4c)')\n",
    "      )\n",
    "plt.show()"
   ]
  },
  {
   "cell_type": "markdown",
   "id": "fef814b7-342c-4abf-bba9-2b96df8c8b81",
   "metadata": {},
   "source": [
    "*5. (2 points)*  \n",
    "Plot the first 50 terms of the sequence a<sub>n</sub>=a<sub>n-1</sub>+a<sub>n-2</sub> with initial conditions a<sub>1</sub>=0 , a<sub>2</sub>=1. In a different figure, plot the ratio a<sub>n</sub>/a<sub>n-1</sub>. Comment on the long-time behaviour (as `n` becomes large) of the plots."
   ]
  },
  {
   "cell_type": "code",
   "execution_count": 95,
   "id": "f3354a89-c688-4316-a04f-7bc0eadaeb19",
   "metadata": {},
   "outputs": [
    {
     "data": {
      "image/png": "[encoded data removed]",
      "text/plain": [
       "<Figure size 640x480 with 2 Axes>"
      ]
     },
     "metadata": {},
     "output_type": "display_data"
    }
   ],
   "source": [
    "terms_5 = [0,1]\n",
    "\n",
    "for i in range(2,50):\n",
    "    a = terms_5[i-1] + terms_5[i-2]\n",
    "    terms_5.append(a)\n",
    "\n",
    "df_5 = pd.DataFrame(data=terms_5)\n",
    "df_5 = df_5.rename(columns={0: 'a'})\n",
    "\n",
    "\n",
    "#fig, ax = plt.subplots()\n",
    "#ax.plot(df_5.index, df_5['a'])\n",
    "#ax.set(xlabel='n', ylabel='a',\n",
    "#       title=('Q5')\n",
    "#      )\n",
    "#plt.show()\n",
    "\n",
    "ratio_5 = [0,1]\n",
    "for i in range(2,50):\n",
    "    alpha = terms_5[i]/terms_5[i-1]\n",
    "    ratio_5.append(alpha)\n",
    "\n",
    "df_ratio = pd.DataFrame(data=ratio_5)\n",
    "df_ratio = df_ratio.rename(columns={0:'ratio'})\n",
    "\n",
    "fig, (ax1, ax2) = plt.subplots(1, 2)\n",
    "fig.suptitle('Horizontally stacked subplots')\n",
    "ax1.plot(df_5.index, df_5['a'])\n",
    "ax1.set(xlabel='n', ylabel='a',\n",
    "       title=('Q5')\n",
    "      )\n",
    "ax2.plot(df_ratio.index, df_ratio['ratio'])\n",
    "ax2.set(xlabel='n', ylabel='ratio',\n",
    "       title=('Ratio plot')\n",
    "      )\n",
    "\n",
    "fig.tight_layout()\n",
    "plt.show()"
   ]
  },
  {
   "cell_type": "markdown",
   "id": "08474f74-a51d-47ea-9deb-494277060b27",
   "metadata": {},
   "source": [
    "As `n` becomes large, `a` increases exponentially.  \n",
    "Also as `n` becomes large, the ratio of a<sub>n</sub>/a<sub>n-1</sub> becomes stable. This sequence is the Fibonacci sequence and the ratio is known as the 'golden ratio'."
   ]
  },
  {
   "cell_type": "code",
   "execution_count": null,
   "id": "53cfc97b-bce3-4591-99f2-b6fc1f80cc46",
   "metadata": {},
   "outputs": [],
   "source": []
  }
 ],
 "metadata": {
  "kernelspec": {
   "display_name": "Python 3 (ipykernel)",
   "language": "python",
   "name": "python3"
  },
  "language_info": {
   "codemirror_mode": {
    "name": "ipython",
    "version": 3
   },
   "file_extension": ".py",
   "mimetype": "text/x-python",
   "name": "python",
   "nbconvert_exporter": "python",
   "pygments_lexer": "ipython3",
   "version": "3.11.6"
  }
 },
 "nbformat": 4,
 "nbformat_minor": 5
}
